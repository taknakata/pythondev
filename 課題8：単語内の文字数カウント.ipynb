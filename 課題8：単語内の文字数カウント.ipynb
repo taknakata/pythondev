{
 "cells": [
  {
   "cell_type": "code",
   "execution_count": 11,
   "id": "a043b8b2",
   "metadata": {},
   "outputs": [
    {
     "name": "stdout",
     "output_type": "stream",
     "text": [
      "英単語を入力してください：dog\n",
      "英単語を入力してください：cat\n",
      "英単語を入力してください：giraffe\n",
      "英単語を入力してください：kangaroo\n",
      "英単語を入力してください：horse\n",
      "英単語を入力してください：bear\n",
      "英単語を入力してください：\n",
      "入力した英単語：['bear', 'cat', 'dog', 'giraffe', 'horse', 'kangaroo']\n",
      "aが5個ありました\n",
      "bが1個ありました\n",
      "cが1個ありました\n",
      "dが1個ありました\n",
      "eが3個ありました\n",
      "fが2個ありました\n",
      "gが3個ありました\n",
      "hが1個ありました\n",
      "iが1個ありました\n",
      "kが1個ありました\n",
      "nが1個ありました\n",
      "oが4個ありました\n",
      "rが4個ありました\n",
      "sが1個ありました\n",
      "tが1個ありました\n"
     ]
    }
   ],
   "source": [
    "# 英単語を格納するための空のリスト\n",
    "word_list = []\n",
    "# キーがアルファベット小文字の各文字で、値が0の辞書\n",
    "word_dict = dict.fromkeys(\"abcdefghijklmnopqrstuvwxyz\", 0)\n",
    "# キーボードから英単語の入力を受け付け\n",
    "while True:\n",
    "    word = input(\"英単語を入力してください：\")\n",
    "    print(f\"英単語を入力してください：{word}\")\n",
    "\n",
    "    # 未入力で受付終了\n",
    "    if word == \"\":\n",
    "        break\n",
    "    \n",
    "    # 登場した数を加算\n",
    "    for char in word:\n",
    "        if char in word_dict:\n",
    "            word_dict[char] += 1\n",
    "\n",
    "    # 入力された英単語をリストに格納\n",
    "    word_list.append(word)\n",
    "\n",
    "# 入力された英単語のリストを一覧表示(ABC順)\n",
    "word_list.sort()\n",
    "print(f\"入力した英単語：{word_list}\")\n",
    "\n",
    "\n",
    "# 1回以上登場した文字とその出現回数を表示\n",
    "for key in word_dict.keys():\n",
    "    if word_dict[key] > 0:\n",
    "        print(f\"{key}が{word_dict[key]}個ありました\")\n"
   ]
  }
 ],
 "metadata": {
  "kernelspec": {
   "display_name": ".venv",
   "language": "python",
   "name": "python3"
  },
  "language_info": {
   "codemirror_mode": {
    "name": "ipython",
    "version": 3
   },
   "file_extension": ".py",
   "mimetype": "text/x-python",
   "name": "python",
   "nbconvert_exporter": "python",
   "pygments_lexer": "ipython3",
   "version": "3.12.10"
  }
 },
 "nbformat": 4,
 "nbformat_minor": 5
}
