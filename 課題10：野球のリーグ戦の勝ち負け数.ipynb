{
 "cells": [
  {
   "cell_type": "code",
   "execution_count": 5,
   "id": "c8f2b5ae",
   "metadata": {},
   "outputs": [],
   "source": [
    "# Baseball_Team クラスの定義\n",
    "class Baseball_Team:\n",
    "    def __init__(self, name, win, lose, draw):\n",
    "        self.name = name\n",
    "        self.win = win\n",
    "        self.lose = lose\n",
    "        self.draw = draw\n",
    "\n",
    "    def calc_win_rate(self):\n",
    "        return self.win / (self.win + self.lose)\n",
    "    \n",
    "    def show_team_result(self):\n",
    "        win_rate = self.calc_win_rate()\n",
    "        print(f\"{self.name:<10} {self.win:>5} {self.lose:>5} {self.draw:>5} {win_rate:>5.3f}\")"
   ]
  },
  {
   "cell_type": "code",
   "execution_count": 6,
   "id": "78d33fb9",
   "metadata": {},
   "outputs": [
    {
     "name": "stdout",
     "output_type": "stream",
     "text": [
      "team         win  lose  draw  rate\n",
      "Archers       77    64     2 0.546\n",
      "Meteors       71    69     3 0.507\n",
      "Cheetahs      69    68     6 0.504\n",
      "Sharks        70    70     3 0.500\n",
      "Pythons       68    73     2 0.482\n",
      "Owls          59    82     2 0.418\n"
     ]
    }
   ],
   "source": [
    "# チームインスタンスを6つ作成\n",
    "teams = [\n",
    "    Baseball_Team(\"Archers\", 77, 64, 2),\n",
    "    Baseball_Team(\"Meteors\", 71, 69, 3),\n",
    "    Baseball_Team(\"Cheetahs\", 69, 68, 6),\n",
    "    Baseball_Team(\"Sharks\", 70, 70, 3),\n",
    "    Baseball_Team(\"Pythons\", 68, 73, 2),\n",
    "    Baseball_Team(\"Owls\", 59, 82, 2)\n",
    "]\n",
    "\n",
    "# 表の見出し\n",
    "print(f\"{'team':<10} {'win':>5} {'lose':>5} {'draw':>5} {'rate':>5}\")\n",
    "\n",
    "# 各チームの勝敗表示\n",
    "for team in teams:\n",
    "    team.show_team_result()"
   ]
  }
 ],
 "metadata": {
  "kernelspec": {
   "display_name": ".venv",
   "language": "python",
   "name": "python3"
  },
  "language_info": {
   "codemirror_mode": {
    "name": "ipython",
    "version": 3
   },
   "file_extension": ".py",
   "mimetype": "text/x-python",
   "name": "python",
   "nbconvert_exporter": "python",
   "pygments_lexer": "ipython3",
   "version": "3.12.10"
  }
 },
 "nbformat": 4,
 "nbformat_minor": 5
}
