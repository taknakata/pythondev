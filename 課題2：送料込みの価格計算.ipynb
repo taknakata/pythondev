{
 "cells": [
  {
   "cell_type": "code",
   "execution_count": 14,
   "id": "0a3a270e",
   "metadata": {},
   "outputs": [
    {
     "name": "stdout",
     "output_type": "stream",
     "text": [
      "税抜価格を入力してください：2000\n",
      "送料は無料です\n",
      "送料込みの価格は2200円です。\n"
     ]
    }
   ],
   "source": [
    "# 入力受付\n",
    "price = int(input(\"税抜価格を入力してください\"))\n",
    "print(f\"税抜価格を入力してください：{price}\")\n",
    "\n",
    "# 税込価格(小数切捨て)\n",
    "price_in_tax = int(price * 1.1)\n",
    "\n",
    "# 送料条件\n",
    "postage = 0\n",
    "if price_in_tax >= 2000:\n",
    "    print(\"送料は無料です\")\n",
    "else:\n",
    "    print(\"送料として350円かかります\")\n",
    "    postage = 350\n",
    "\n",
    "# 送料込み価格\n",
    "price = price_in_tax + postage\n",
    "print(f\"送料込みの価格は{price}円です。\")"
   ]
  }
 ],
 "metadata": {
  "kernelspec": {
   "display_name": ".venv",
   "language": "python",
   "name": "python3"
  },
  "language_info": {
   "codemirror_mode": {
    "name": "ipython",
    "version": 3
   },
   "file_extension": ".py",
   "mimetype": "text/x-python",
   "name": "python",
   "nbconvert_exporter": "python",
   "pygments_lexer": "ipython3",
   "version": "3.12.10"
  }
 },
 "nbformat": 4,
 "nbformat_minor": 5
}
