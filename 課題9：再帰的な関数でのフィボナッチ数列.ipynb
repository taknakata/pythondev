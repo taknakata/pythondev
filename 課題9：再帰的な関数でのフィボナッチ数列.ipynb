{
 "cells": [
  {
   "cell_type": "code",
   "execution_count": 6,
   "id": "61820eb2",
   "metadata": {},
   "outputs": [
    {
     "name": "stdout",
     "output_type": "stream",
     "text": [
      "何番目の数値を求めますか？：10\n",
      "55\n"
     ]
    }
   ],
   "source": [
    "import prognum\n",
    "# 何番目の数値を求めたいか\n",
    "num = input(\"何番目の数値を求めますか？：\")\n",
    "try:\n",
    "    num = int(num)\n",
    "except ValueError:\n",
    "    print(\"整数を入力してください。\")\n",
    "else:\n",
    "    print(f\"何番目の数値を求めますか？：{num}\")\n",
    "    fibonacci_num = prognum.fibonacci(num)\n",
    "    print(f\"{fibonacci_num}\")"
   ]
  }
 ],
 "metadata": {
  "kernelspec": {
   "display_name": ".venv",
   "language": "python",
   "name": "python3"
  },
  "language_info": {
   "codemirror_mode": {
    "name": "ipython",
    "version": 3
   },
   "file_extension": ".py",
   "mimetype": "text/x-python",
   "name": "python",
   "nbconvert_exporter": "python",
   "pygments_lexer": "ipython3",
   "version": "3.12.10"
  }
 },
 "nbformat": 4,
 "nbformat_minor": 5
}
