{
 "cells": [
  {
   "cell_type": "code",
   "execution_count": null,
   "id": "7683551a",
   "metadata": {},
   "outputs": [
    {
     "name": "stdout",
     "output_type": "stream",
     "text": [
      "点数を入力してください：60\n",
      "点数を入力してください：70\n",
      "点数を入力してください：80\n",
      "点数を入力してください：90\n",
      "点数を入力してください：100\n",
      "点数を入力してください：-1\n",
      "5人のテストの平均点は80.0点です\n"
     ]
    }
   ],
   "source": [
    "num = 0\n",
    "total_score = 0\n",
    "avg_score = 0\n",
    "\n",
    "# 無限ループ\n",
    "while True:\n",
    "    # 点数入力\n",
    "    point = int(input(\"点数を入力してください：\"))\n",
    "    print(f\"点数を入力してください：{point}\")\n",
    "    \n",
    "    # 終了判定\n",
    "    if point == -1:\n",
    "        break\n",
    "\n",
    "    total_score += point\n",
    "    num += 1\n",
    "\n",
    "# 平均値の計算\n",
    "if num > 0:\n",
    "    avg_score = total_score / num\n",
    "print(f\"{num}人のテストの平均点は{avg_score}点です\")"
   ]
  }
 ],
 "metadata": {
  "kernelspec": {
   "display_name": ".venv",
   "language": "python",
   "name": "python3"
  },
  "language_info": {
   "codemirror_mode": {
    "name": "ipython",
    "version": 3
   },
   "file_extension": ".py",
   "mimetype": "text/x-python",
   "name": "python",
   "nbconvert_exporter": "python",
   "pygments_lexer": "ipython3",
   "version": "3.12.10"
  }
 },
 "nbformat": 4,
 "nbformat_minor": 5
}
