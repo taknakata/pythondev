{
 "cells": [
  {
   "cell_type": "code",
   "execution_count": 5,
   "id": "e2c35104",
   "metadata": {},
   "outputs": [
    {
     "name": "stdout",
     "output_type": "stream",
     "text": [
      "名前を入力してください：nakata\n",
      "現在の年齢を入力してください：36\n",
      "私の名前は nakata です。来年で 37 歳になります。\n"
     ]
    }
   ],
   "source": [
    "# 命令1 名前の入力\n",
    "name = input(\"名前を入力してください：\")\n",
    "print(f\"名前を入力してください：{name}\")\n",
    "# 命令2 年齢の入力\n",
    "age = input(\"現在の年齢を入力してください：\")\n",
    "print(f\"現在の年齢を入力してください：{age}\")\n",
    "# 命令3 来年の年齢\n",
    "age = int(age)\n",
    "age += 1\n",
    "print(f\"私の名前は {name} です。来年で {age} 歳になります。\")"
   ]
  }
 ],
 "metadata": {
  "kernelspec": {
   "display_name": ".venv",
   "language": "python",
   "name": "python3"
  },
  "language_info": {
   "codemirror_mode": {
    "name": "ipython",
    "version": 3
   },
   "file_extension": ".py",
   "mimetype": "text/x-python",
   "name": "python",
   "nbconvert_exporter": "python",
   "pygments_lexer": "ipython3",
   "version": "3.12.10"
  }
 },
 "nbformat": 4,
 "nbformat_minor": 5
}
